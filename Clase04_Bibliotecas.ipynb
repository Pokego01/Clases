{
  "nbformat": 4,
  "nbformat_minor": 0,
  "metadata": {
    "colab": {
      "provenance": []
    },
    "kernelspec": {
      "name": "python3",
      "display_name": "Python 3"
    },
    "language_info": {
      "name": "python"
    }
  },
  "cells": [
    {
      "cell_type": "code",
      "execution_count": null,
      "metadata": {
        "id": "GwOMc4mLag6E"
      },
      "outputs": [],
      "source": [
        "import numpy as np"
      ]
    },
    {
      "cell_type": "code",
      "source": [
        "lista=list(range(1,11))\n",
        "arreglo=np.array(lista)\n",
        "type(arreglo)"
      ],
      "metadata": {
        "id": "shTkKGUZapub"
      },
      "execution_count": null,
      "outputs": []
    },
    {
      "cell_type": "code",
      "source": [
        "arreglo_de_unos=np.ones(20)\n",
        "print(arreglo_de_unos)\n",
        "arreglos_ones=arreglo_de_unos.astype(int)\n",
        "print(arreglos_ones)"
      ],
      "metadata": {
        "colab": {
          "base_uri": "https://localhost:8080/"
        },
        "id": "2xPKRyN_bov_",
        "outputId": "2d3909f2-b687-41bf-b334-299f325ce065"
      },
      "execution_count": null,
      "outputs": [
        {
          "output_type": "stream",
          "name": "stdout",
          "text": [
            "[1. 1. 1. 1. 1. 1. 1. 1. 1. 1. 1. 1. 1. 1. 1. 1. 1. 1. 1. 1.]\n",
            "[1 1 1 1 1 1 1 1 1 1 1 1 1 1 1 1 1 1 1 1]\n"
          ]
        }
      ]
    },
    {
      "cell_type": "markdown",
      "source": [
        "##Usando la Funcion Random"
      ],
      "metadata": {
        "id": "CxzaTFOqcPbE"
      }
    },
    {
      "cell_type": "code",
      "source": [
        "arreglo_aleatorio= np.random.rand(12)\n",
        "arreglo_aleatorio"
      ],
      "metadata": {
        "colab": {
          "base_uri": "https://localhost:8080/"
        },
        "id": "s-dBQhp4cVYc",
        "outputId": "67a8dcc3-1c54-49cd-8701-b212694d069c"
      },
      "execution_count": null,
      "outputs": [
        {
          "output_type": "execute_result",
          "data": {
            "text/plain": [
              "array([0.49007584, 0.95978921, 0.50936609, 0.92145317, 0.75375407,\n",
              "       0.46044972, 0.49650616, 0.89667453, 0.21333704, 0.50492004,\n",
              "       0.3732855 , 0.91291852])"
            ]
          },
          "metadata": {},
          "execution_count": 7
        }
      ]
    },
    {
      "cell_type": "markdown",
      "source": [
        "##Generar Numeros Aleatorios Del 1 al 5"
      ],
      "metadata": {
        "id": "0nypTdR2dChY"
      }
    },
    {
      "cell_type": "code",
      "source": [
        "arreglo_aleatorio2= np.random.randint(1,100,12)\n",
        "arreglo_aleatorio2"
      ],
      "metadata": {
        "colab": {
          "base_uri": "https://localhost:8080/"
        },
        "id": "bTwy24KcdKy5",
        "outputId": "5282d352-6677-4773-e2f1-3a03c2221860"
      },
      "execution_count": null,
      "outputs": [
        {
          "output_type": "execute_result",
          "data": {
            "text/plain": [
              "array([4, 1, 1, 3, 2, 3, 4, 1, 4, 2, 1, 2])"
            ]
          },
          "metadata": {},
          "execution_count": 22
        }
      ]
    },
    {
      "cell_type": "markdown",
      "source": [
        "##Matriz"
      ],
      "metadata": {
        "id": "SNmYY5m-dgr2"
      }
    },
    {
      "cell_type": "code",
      "source": [
        "Matriz=np.random.rand(3,3)\n",
        "Matriz"
      ],
      "metadata": {
        "colab": {
          "base_uri": "https://localhost:8080/"
        },
        "id": "Mo9qMs3NdjMP",
        "outputId": "567a6c9c-dc99-4b02-cf59-dd1be693a7c4"
      },
      "execution_count": null,
      "outputs": [
        {
          "output_type": "execute_result",
          "data": {
            "text/plain": [
              "array([[0.46291504, 0.52324827, 0.54371173],\n",
              "       [0.15604927, 0.73860205, 0.29305309],\n",
              "       [0.77718342, 0.04340826, 0.08459489]])"
            ]
          },
          "metadata": {},
          "execution_count": 10
        }
      ]
    },
    {
      "cell_type": "markdown",
      "source": [
        "#Una Matriz consiste de listas en otras listas o una anidacion de arreglos"
      ],
      "metadata": {
        "id": "rECOQGKFd8q6"
      }
    },
    {
      "cell_type": "code",
      "source": [
        "Matriz2 = np.random.randint(1,101,(5,12))\n",
        "Matriz2"
      ],
      "metadata": {
        "colab": {
          "base_uri": "https://localhost:8080/"
        },
        "id": "W5DL71dEeFfH",
        "outputId": "b41d02fe-c346-41f9-efac-dc27e139b22c"
      },
      "execution_count": null,
      "outputs": [
        {
          "output_type": "execute_result",
          "data": {
            "text/plain": [
              "array([[67, 92, 43, 14, 86, 60, 63, 69, 68, 15, 58, 71],\n",
              "       [95, 37, 81, 38,  6,  6, 30, 82, 75, 91, 90, 21],\n",
              "       [50, 65, 94, 65, 44, 93, 30, 76, 70, 29, 64, 26],\n",
              "       [28, 34, 85, 70, 14,  8, 46, 68, 74, 99, 96, 86],\n",
              "       [64, 40, 96, 64,  4, 51, 44, 50,  1, 68, 43, 64]])"
            ]
          },
          "metadata": {},
          "execution_count": 15
        }
      ]
    },
    {
      "cell_type": "markdown",
      "source": [
        "##Crear arreglo nueve elementos enteros con random"
      ],
      "metadata": {
        "id": "tauYVNu6kWSG"
      }
    },
    {
      "cell_type": "code",
      "source": [
        "Nueve_Elementos=np.random.randint(1,100,9)\n",
        "Nueve_Elementos"
      ],
      "metadata": {
        "colab": {
          "base_uri": "https://localhost:8080/"
        },
        "id": "x5aGi3q0lBfA",
        "outputId": "0bcc8136-0caf-4644-c31d-be6098d84fb6"
      },
      "execution_count": null,
      "outputs": [
        {
          "output_type": "execute_result",
          "data": {
            "text/plain": [
              "array([61, 37, 67, 50, 18, 45, 63, 88, 43])"
            ]
          },
          "metadata": {},
          "execution_count": 17
        }
      ]
    },
    {
      "cell_type": "markdown",
      "source": [
        "##Agregar Imagen"
      ],
      "metadata": {
        "id": "sFjCTDy7lazC"
      }
    },
    {
      "cell_type": "code",
      "source": [
        "<image src =\"download/img/ACB.png\">"
      ],
      "metadata": {
        "colab": {
          "base_uri": "https://localhost:8080/",
          "height": 132
        },
        "id": "eKoUJ4Fzle5x",
        "outputId": "272426e3-3db8-46ba-e098-48a96cdc95b1"
      },
      "execution_count": null,
      "outputs": [
        {
          "output_type": "error",
          "ename": "SyntaxError",
          "evalue": "ignored",
          "traceback": [
            "\u001b[0;36m  File \u001b[0;32m\"<ipython-input-20-89ecf769c47c>\"\u001b[0;36m, line \u001b[0;32m1\u001b[0m\n\u001b[0;31m    <image src =\"download/img/ACB.png\">\u001b[0m\n\u001b[0m    ^\u001b[0m\n\u001b[0;31mSyntaxError\u001b[0m\u001b[0;31m:\u001b[0m invalid syntax\n"
          ]
        }
      ]
    },
    {
      "cell_type": "markdown",
      "source": [
        "##Obtener Dimension del arreglo"
      ],
      "metadata": {
        "id": "4ezfIo84m_cK"
      }
    },
    {
      "cell_type": "code",
      "source": [
        "np.shape(arreglo)"
      ],
      "metadata": {
        "colab": {
          "base_uri": "https://localhost:8080/"
        },
        "id": "0MFJ7FlsnEAb",
        "outputId": "01b99019-89ed-4d42-be1d-2e70e15bdd20"
      },
      "execution_count": null,
      "outputs": [
        {
          "output_type": "execute_result",
          "data": {
            "text/plain": [
              "(10,)"
            ]
          },
          "metadata": {},
          "execution_count": 21
        }
      ]
    },
    {
      "cell_type": "markdown",
      "source": [
        "##Crear un arreglo de 12 elementos a uno de 4x3"
      ],
      "metadata": {
        "id": "Nr83Ali1nt7q"
      }
    },
    {
      "cell_type": "code",
      "source": [
        "matriz= arreglo_aleatorio2.reshape(4,3)\n",
        "matriz"
      ],
      "metadata": {
        "colab": {
          "base_uri": "https://localhost:8080/"
        },
        "id": "iL_8lAG-n3FE",
        "outputId": "5d9fb405-44df-4475-97ea-874fb4f598ad"
      },
      "execution_count": null,
      "outputs": [
        {
          "output_type": "execute_result",
          "data": {
            "text/plain": [
              "array([[4, 1, 1],\n",
              "       [3, 2, 3],\n",
              "       [4, 1, 4],\n",
              "       [2, 1, 2]])"
            ]
          },
          "metadata": {},
          "execution_count": 25
        }
      ]
    }
  ]
}